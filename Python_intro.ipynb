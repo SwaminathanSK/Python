{
 "cells": [
  {
   "cell_type": "code",
   "execution_count": 1,
   "id": "be99ff20",
   "metadata": {},
   "outputs": [
    {
     "name": "stdout",
     "output_type": "stream",
     "text": [
      "Hello World\n"
     ]
    }
   ],
   "source": [
    "print(\"Hello World\")"
   ]
  },
  {
   "cell_type": "markdown",
   "id": "6c2247d4",
   "metadata": {},
   "source": [
    "### Python is Case-Sensitive"
   ]
  },
  {
   "cell_type": "markdown",
   "id": "34a5af2e",
   "metadata": {},
   "source": [
    "#### Writing with 4 Hashtags"
   ]
  },
  {
   "cell_type": "markdown",
   "id": "93ec4a30",
   "metadata": {},
   "source": [
    "# One Hashtag"
   ]
  },
  {
   "cell_type": "code",
   "execution_count": 2,
   "id": "3c8598cf",
   "metadata": {},
   "outputs": [
    {
     "ename": "SyntaxError",
     "evalue": "invalid syntax (Temp/ipykernel_23688/3743419509.py, line 1)",
     "output_type": "error",
     "traceback": [
      "\u001b[1;36m  File \u001b[1;32m\"C:\\Users\\swami\\AppData\\Local\\Temp/ipykernel_23688/3743419509.py\"\u001b[1;36m, line \u001b[1;32m1\u001b[0m\n\u001b[1;33m    Add a cell above - a\u001b[0m\n\u001b[1;37m        ^\u001b[0m\n\u001b[1;31mSyntaxError\u001b[0m\u001b[1;31m:\u001b[0m invalid syntax\n"
     ]
    }
   ],
   "source": [
    "Add a cell above -"
   ]
  },
  {
   "cell_type": "markdown",
   "id": "675a7b6a",
   "metadata": {},
   "source": [
    "Add a cell above - a\n",
    "Add a cell below - b\n",
    "Delete a cell - x"
   ]
  },
  {
   "cell_type": "code",
   "execution_count": 3,
   "id": "d2faf0d5",
   "metadata": {},
   "outputs": [
    {
     "data": {
      "text/plain": [
       "''"
      ]
     },
     "execution_count": 3,
     "metadata": {},
     "output_type": "execute_result"
    }
   ],
   "source": [
    "''''''"
   ]
  },
  {
   "cell_type": "markdown",
   "id": "2938ad3d",
   "metadata": {},
   "source": [
    "##### Add a cell above - a\n",
    "##### Add a cell below - b\n",
    "##### Delete a cell - x\n"
   ]
  },
  {
   "cell_type": "code",
   "execution_count": 4,
   "id": "766cd0d5",
   "metadata": {},
   "outputs": [],
   "source": [
    "coursenames = \"ds\", 'ml'"
   ]
  },
  {
   "cell_type": "code",
   "execution_count": null,
   "id": "5c5065f1",
   "metadata": {},
   "outputs": [],
   "source": []
  }
 ],
 "metadata": {
  "kernelspec": {
   "display_name": "Python 3 (ipykernel)",
   "language": "python",
   "name": "python3"
  },
  "language_info": {
   "codemirror_mode": {
    "name": "ipython",
    "version": 3
   },
   "file_extension": ".py",
   "mimetype": "text/x-python",
   "name": "python",
   "nbconvert_exporter": "python",
   "pygments_lexer": "ipython3",
   "version": "3.8.8"
  }
 },
 "nbformat": 4,
 "nbformat_minor": 5
}
